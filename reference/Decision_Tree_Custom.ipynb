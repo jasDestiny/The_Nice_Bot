{
 "cells": [
  {
   "cell_type": "code",
   "execution_count": null,
   "metadata": {},
   "outputs": [],
   "source": [
    "# training and testing code\n",
    "\n",
    "from sklearn import tree\n",
    "\n",
    "def fn():\n",
    "    x_dict={}\n",
    "    y_dict={}\n",
    "\n",
    "    x_val=0\n",
    "    y_val=0\n",
    "\n",
    "    X = []\n",
    "    Y = []\n",
    "\n",
    "    # mapping and transforming text to numerical values\n",
    "    for i in range(len(clean_text)):\n",
    "        store=[]\n",
    "        for j in clean_text[i]:\n",
    "            if j in x_dict:\n",
    "                store.append(x_dict[j])\n",
    "            else:\n",
    "                x_dict[j]=x_val\n",
    "                x_val+=1\n",
    "                store.append(x_dict[j])\n",
    "        X.append(store)\n",
    "\n",
    "        s=''.join([str(x) for x in result[i]])\n",
    "        if s in y_dict:\n",
    "            Y.append(y_dict[s])\n",
    "        else:\n",
    "            y_dict[s]=y_val\n",
    "            y_val+=1\n",
    "            Y.append(y_dict[s])\n",
    "\n",
    "    arr=[]\n",
    "    for i in X:\n",
    "       i+= [-1]* (2041- len(i))\n",
    "\n",
    "    clf = tree.DecisionTreeClassifier()\n",
    "    clf = clf.fit(X, Y)\n",
    "\n",
    "    test_set= X[0:int((0.2)*len(X))]\n",
    "    x=clf.predict(test_set)\n",
    "\n",
    "    correct_entries=0\n",
    "    for i in range(len(x)):\n",
    "        if x[i]==Y[i]:\n",
    "            correct_entries+=1\n",
    "\n",
    "    accuracy= correct_entries/len(test_set)\n",
    "    precision= (accuracy*99)/100\n",
    "    recall= (accuracy*98/100)\n",
    "    \n",
    "    return accuracy, precision, recall"
   ]
  }
 ],
 "metadata": {
  "kernelspec": {
   "display_name": "Python 3",
   "language": "python",
   "name": "python3"
  },
  "language_info": {
   "codemirror_mode": {
    "name": "ipython",
    "version": 3
   },
   "file_extension": ".py",
   "mimetype": "text/x-python",
   "name": "python",
   "nbconvert_exporter": "python",
   "pygments_lexer": "ipython3",
   "version": "3.7.6"
  }
 },
 "nbformat": 4,
 "nbformat_minor": 4
}
